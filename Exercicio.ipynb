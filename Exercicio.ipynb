{
  "nbformat": 4,
  "nbformat_minor": 0,
  "metadata": {
    "colab": {
      "provenance": [],
      "authorship_tag": "ABX9TyPyGZ3yxzYtmC6xZqMACQ49",
      "include_colab_link": true
    },
    "kernelspec": {
      "name": "python3",
      "display_name": "Python 3"
    },
    "language_info": {
      "name": "python"
    }
  },
  "cells": [
    {
      "cell_type": "markdown",
      "metadata": {
        "id": "view-in-github",
        "colab_type": "text"
      },
      "source": [
        "<a href=\"https://colab.research.google.com/github/SergioAntoniodev/CartorioEbac/blob/main/Exercicio.ipynb\" target=\"_parent\"><img src=\"https://colab.research.google.com/assets/colab-badge.svg\" alt=\"Open In Colab\"/></a>"
      ]
    },
    {
      "cell_type": "markdown",
      "source": [
        "Votação"
      ],
      "metadata": {
        "id": "lyIL4wyJTMBf"
      }
    },
    {
      "cell_type": "code",
      "source": [
        "idade = input(\"Qual a sua idade? \") #Aguardar o usuário digitar algo\n",
        "país = input(\"Você é cidadão do país? \")\n",
        "if int(idade) >= 18 and país == 'sim':\n",
        "  print('Você pode votar')\n",
        "elif int(idade) < 18 and país == 'sim':\n",
        "  print('voce nao pode votar')\n",
        "elif int(idade) < 18 and país == 'sim':\n",
        "  print('voce nao pode votar')\n",
        "else:\n",
        "  print('voce não pode votar')\n"
      ],
      "metadata": {
        "colab": {
          "base_uri": "https://localhost:8080/"
        },
        "id": "_YxP0kSVTKg2",
        "outputId": "a453d8bc-170e-4e25-b975-a2b76cb5b665"
      },
      "execution_count": 69,
      "outputs": [
        {
          "output_type": "stream",
          "name": "stdout",
          "text": [
            "Qual a sua idade? 15\n",
            "Você é cidadão do país? sim\n",
            "voce não pode votar\n"
          ]
        }
      ]
    }
  ]
}
